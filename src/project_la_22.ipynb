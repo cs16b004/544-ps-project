{
 "cells": [
  {
   "cell_type": "markdown",
   "id": "3533040a",
   "metadata": {},
   "source": [
    "# Imports"
   ]
  },
  {
   "cell_type": "code",
   "execution_count": null,
   "id": "b5659894",
   "metadata": {},
   "outputs": [],
   "source": [
    "import pandas as pd\n",
    "import numpy as np\n",
    "from scipy import stats\n",
    "import statsmodels.stats.weightstats as ws\n",
    "from scipy.stats import norm, ttest_ind"
   ]
  },
  {
   "cell_type": "markdown",
   "id": "e458b28e",
   "metadata": {},
   "source": [
    "## Utility Functions"
   ]
  },
  {
   "cell_type": "code",
   "execution_count": 1,
   "id": "1536737c",
   "metadata": {},
   "outputs": [],
   "source": [
    "def getOriginalDataset():\n",
    "    return pd.read_csv(\"Los_Angeles_Long_Beach_Anaheim_2.csv\")"
   ]
  },
  {
   "cell_type": "markdown",
   "id": "00d01887",
   "metadata": {},
   "source": [
    "# Task 3.1"
   ]
  }
 ],
 "metadata": {
  "kernelspec": {
   "display_name": "Python 3 (ipykernel)",
   "language": "python",
   "name": "python3"
  },
  "language_info": {
   "codemirror_mode": {
    "name": "ipython",
    "version": 3
   },
   "file_extension": ".py",
   "mimetype": "text/x-python",
   "name": "python",
   "nbconvert_exporter": "python",
   "pygments_lexer": "ipython3",
   "version": "3.10.10"
  }
 },
 "nbformat": 4,
 "nbformat_minor": 5
}
